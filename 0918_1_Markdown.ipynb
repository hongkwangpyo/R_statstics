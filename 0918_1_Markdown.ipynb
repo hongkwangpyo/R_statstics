{
  "nbformat": 4,
  "nbformat_minor": 0,
  "metadata": {
    "colab": {
      "name": "Markdown.ipynb",
      "provenance": [],
      "collapsed_sections": [],
      "authorship_tag": "ABX9TyOGXvBxB3hkHIDCtSAwf5ip",
      "include_colab_link": true
    },
    "kernelspec": {
      "name": "ir",
      "display_name": "R"
    },
    "accelerator": "GPU"
  },
  "cells": [
    {
      "cell_type": "markdown",
      "metadata": {
        "id": "view-in-github",
        "colab_type": "text"
      },
      "source": [
        "<a href=\"https://colab.research.google.com/github/hongkwangpyo/R_statstics/blob/master/0918_1_Markdown.ipynb\" target=\"_parent\"><img src=\"https://colab.research.google.com/assets/colab-badge.svg\" alt=\"Open In Colab\"/></a>"
      ]
    },
    {
      "cell_type": "markdown",
      "metadata": {
        "id": "WbeUuKpZ_k4Z",
        "colab_type": "text"
      },
      "source": [
        "# 마크다운 제목 작성: # 5개까지"
      ]
    },
    {
      "cell_type": "markdown",
      "metadata": {
        "id": "DNUEKNe_G20N",
        "colab_type": "text"
      },
      "source": [
        "# 줄바꿈 : 스페이스바 2번 후 엔터\n",
        "마크다운  \n",
        "마크다운 <br>\n",
        "마크다운"
      ]
    },
    {
      "cell_type": "markdown",
      "metadata": {
        "id": "S_lTueAIG39a",
        "colab_type": "text"
      },
      "source": [
        "### 글자꾸미기: 진하게(**), \n",
        "**진하게**\n",
        "### 강조하기(*)\n",
        "*강조*\n",
        "### 취소선(~)\n",
        "~취소선~\n",
        "### 구분선(-----)\n",
        "-----\n",
        "### 인용구(>)\n",
        "> 시간은 금이라구, 친구!\n",
        "### 순서있는 목록: 숫자\n",
        "1. ㅂㅈㄷㄱ\n",
        "2. ㅁㄴㅇㄹ\n",
        "### 순서없는 목록: 각종기호, 들여쓰기\n",
        "* ㅂㅈㄷㄱ\n",
        " - ㅁㄴㅇㄹ\n",
        "+ ㅋㅌㅊㅍ\n",
        "### 링크제목(대괄호)\n",
        "[네이버](https://naver.com)\n",
        "### 이미지 : 느낌표 괄호\n",
        "![](https://search.pstatic.net/common/?src=http%3A%2F%2Fpost.phinf.naver.net%2FMjAxODA3MTNfMjc4%2FMDAxNTMxNDYxNjQ4ODYw.qdwF2ic-4AFwmKyhOhf75y8qom43u0EMr8hY577tiKgg.0re_ALNlD8BE419PeMI3umXJVhXzqbnOtIkgqMpVBjAg.JPEG%2FIVPm6keeKK9xHZSAYzfYL-RLKoTU.jpg&type=sc960_832)\n",
        "\n",
        "### 표 작성\n",
        "\n",
        "| 이름 | 국어 | 영어 | 수학 |\n",
        "|------|------|------|------|\n",
        "|수지|98|97|96|\n",
        "|지현|98|97|96|\n",
        "|혜교|98|97|96|\n",
        "### 수학식:달러기호\n",
        "\n",
        "$\\bar{x} = {1 \\over n}(x_1 + x_2) $"
      ]
    },
    {
      "cell_type": "code",
      "metadata": {
        "id": "A8u263iBIf9b",
        "colab_type": "code",
        "colab": {}
      },
      "source": [
        ""
      ],
      "execution_count": null,
      "outputs": []
    }
  ]
}